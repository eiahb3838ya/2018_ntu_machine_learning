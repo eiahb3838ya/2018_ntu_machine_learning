{
 "cells": [
  {
   "cell_type": "code",
   "execution_count": 1,
   "metadata": {},
   "outputs": [],
   "source": [
    "import pandas as pd"
   ]
  },
  {
   "cell_type": "code",
   "execution_count": 47,
   "metadata": {},
   "outputs": [],
   "source": [
    "ansss=list()\n",
    "for i in [38,39,40,41,42,43]:\n",
    "    ansss.append(pd.read_csv(\"answer/answer\"+str(i)+\".csv\").label)\n",
    "# ans27=pd.read_csv(\"answer/answer27.csv\").label\n",
    "# ans28=pd.read_csv(\"answer/answer28.csv\").label\n",
    "# ans29=pd.read_csv(\"answer/answer29.csv\").label\n",
    "# ans30=pd.read_csv(\"answer/answer30.csv\").label\n",
    "# ans31=pd.read_csv(\"answer/answer31.csv\").label\n",
    "# ans32=pd.read_csv(\"answer/answer32.csv\")\n",
    "sample_ans=pd.read_csv(\"raw_data/sample.csv\")\n",
    "# ansss=[ans27,ans28,ans29,ans30,ans31]\n"
   ]
  },
  {
   "cell_type": "code",
   "execution_count": 48,
   "metadata": {},
   "outputs": [],
   "source": [
    "test_voted_answer=list()\n",
    "for i in range(len(ans27)):\n",
    "    candidate_list=[0,0,0,0,0,0,0]\n",
    "    for ans_list in ansss:\n",
    "        candidate_list[ans_list[i]]=candidate_list[ans_list[0]]+1\n",
    "    test_voted_answer.append(pd.Series(candidate_list).idxmax())"
   ]
  },
  {
   "cell_type": "code",
   "execution_count": 49,
   "metadata": {},
   "outputs": [],
   "source": [
    "sample_ans.label=test_voted_answer\n",
    "sample_ans.to_csv(\"voted_answer1.csv\",index=False)"
   ]
  },
  {
   "cell_type": "code",
   "execution_count": null,
   "metadata": {},
   "outputs": [],
   "source": []
  }
 ],
 "metadata": {
  "kernelspec": {
   "display_name": "Python 3",
   "language": "python",
   "name": "python3"
  },
  "language_info": {
   "codemirror_mode": {
    "name": "ipython",
    "version": 3
   },
   "file_extension": ".py",
   "mimetype": "text/x-python",
   "name": "python",
   "nbconvert_exporter": "python",
   "pygments_lexer": "ipython3",
   "version": "3.6.7"
  }
 },
 "nbformat": 4,
 "nbformat_minor": 2
}

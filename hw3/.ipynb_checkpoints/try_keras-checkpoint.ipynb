{
 "cells": [
  {
   "cell_type": "code",
   "execution_count": 2,
   "metadata": {},
   "outputs": [],
   "source": [
    "import pandas as pd \n",
    "import numpy as np\n",
    "import keras\n",
    "from keras.utils.np_utils import to_categorical\n",
    "from keras.models import Sequential\n",
    "from keras.layers import Convolution2D, MaxPooling2D,Conv2D\n",
    "from keras.layers import Activation, Dropout, Flatten, Dense\n",
    "from keras.optimizers import SGD, RMSprop"
   ]
  },
  {
   "cell_type": "code",
   "execution_count": 3,
   "metadata": {},
   "outputs": [],
   "source": [
    "emotion = {'Angry': 0, 'Disgust': 1, 'Fear': 2, 'Happy': 3,\n",
    "           'Sad': 4, 'Surprise': 5, 'Neutral': 6}\n",
    "emo     = ['Angry', 'Fear', 'Happy',\n",
    "           'Sad', 'Surprise', 'Neutral']\n",
    "def reconstruct(pix_str, size=(48,48)):\n",
    "    pix_arr = np.array(pix_str.split(' '),dtype=float)\n",
    "    return pix_arr\n",
    "def load_data(filepath='train.csv'):\n",
    "    data = pd.read_csv(filepath)\n",
    "    # print df.tail()\n",
    "    # print df.Usage.value_counts()\n",
    "#     df = df[df.Usage == usage]\n",
    "#     frames = []\n",
    "    \n",
    "#     for _class in classes:\n",
    "#         class_df = df[df['emotion'] == emotion[_class]]\n",
    "#         frames.append(class_df)\n",
    "#     data = pd.concat(frames, axis=0)\n",
    "#     rows = random.sample(data.index, int(len(data)*sample_split))\n",
    "#     data = data.ix[rows]\n",
    "#     print ('{} set for {}: {}'.format(usage, classes, data.shape))\n",
    "    data['feature'] = data.feature.apply(lambda x: reconstruct(x))\n",
    "    x = np.array([mat for mat in data.feature]).reshape(-1,48,48)# (n_samples, img_width, img_height)\n",
    "    X_train = x.reshape(-1, 1, x.shape[1], x.shape[2])\n",
    "    y_train=to_categorical(data['label'])\n",
    "    print(\"X_train\",X_train.shape,\"y_train\",y_train.shape)\n",
    "    return (X_train, y_train)\n"
   ]
  },
  {
   "cell_type": "code",
   "execution_count": 5,
   "metadata": {},
   "outputs": [],
   "source": [
    "X_train=np.load(\"raw_data/X_train.npy\")\n",
    "y_train=np.load(\"raw_data/y_train.npy\")"
   ]
  },
  {
   "cell_type": "code",
   "execution_count": 13,
   "metadata": {},
   "outputs": [
    {
     "name": "stdout",
     "output_type": "stream",
     "text": [
      "X_train shape:  (28700, 48, 48, 1)\n",
      "y_train shape:  (28700, 7)\n",
      "  img size:  48 48\n",
      "batch size:  100\n",
      "  nb_epoch:  50\n"
     ]
    }
   ],
   "source": [
    "#params:\n",
    "batch_size = 100\n",
    "epochs = 50\n",
    "X_train=X_train[:28700]\n",
    "y_train=y_train[:28700]\n",
    "# setup info:\n",
    "print ('X_train shape: ', X_train.shape) # (n_sample, 1, 48, 48)\n",
    "print ('y_train shape: ', y_train.shape) # (n_sample, n_categories)\n",
    "print( '  img size: ', X_train.shape[1], X_train.shape[2])\n",
    "print ('batch size: ', batch_size)\n",
    "print( '  nb_epoch: ', epochs)"
   ]
  },
  {
   "cell_type": "code",
   "execution_count": 18,
   "metadata": {},
   "outputs": [],
   "source": [
    "model = Sequential()\n",
    "model.add(Conv2D(32,(3, 3), padding='same', activation='relu',\n",
    "                        input_shape=( X_train.shape[1], X_train.shape[2],1)))\n",
    "model.add(Conv2D(32,(3, 3), padding='same', activation='relu',))\n",
    "model.add(Conv2D(32,(3, 3), padding='same', activation='relu',))\n",
    "model.add(MaxPooling2D(pool_size=(2, 2),padding='same'))\n",
    "\n",
    "# model.add(Convolution2D(64, 3, 3, border_mode='same', activation='relu'))\n",
    "# model.add(Convolution2D(64, 3, 3, border_mode='same', activation='relu'))\n",
    "# model.add(Convolution2D(64, 3, 3, border_mode='same', activation='relu'))\n",
    "# model.add(MaxPooling2D(pool_size=(2, 2)))\n",
    "\n",
    "# model.add(Convolution2D(128, 3, 3, border_mode='same', activation='relu'))\n",
    "# model.add(Convolution2D(128, 3, 3, border_mode='same', activation='relu'))\n",
    "# model.add(Convolution2D(128, 3, 3, border_mode='same', activation='relu'))\n",
    "# model.add(MaxPooling2D(pool_size=(2, 2)))\n",
    "\n",
    "model.add(Flatten())  # this converts our 3D feature maps to 1D feature vectors\n",
    "model.add(Dense(64, activation='relu'))\n",
    "model.add(Dense(64, activation='relu'))\n",
    "model.add(Dense(7, activation='softmax'))\n",
    "model.compile(loss='categorical_crossentropy', optimizer='adam', metrics=['accuracy'])"
   ]
  },
  {
   "cell_type": "code",
   "execution_count": null,
   "metadata": {},
   "outputs": [
    {
     "name": "stdout",
     "output_type": "stream",
     "text": [
      "Train on 20090 samples, validate on 8610 samples\n",
      "Epoch 1/50\n",
      "12600/20090 [=================>............] - ETA: 3s - loss: 13.2083 - acc: 0.1758"
     ]
    }
   ],
   "source": [
    "# print 'Training....'\n",
    "model.fit(X_train, y_train, epochs=epochs, batch_size=batch_size,\n",
    "          validation_split=0.3, shuffle=True, verbose=1)"
   ]
  },
  {
   "cell_type": "code",
   "execution_count": 58,
   "metadata": {},
   "outputs": [
    {
     "name": "stdout",
     "output_type": "stream",
     "text": [
      "6\n"
     ]
    }
   ],
   "source": [
    "def get_answer_num():\n",
    "    with open(\"answer/answer_number.txt\",\"r\") as p:\n",
    "        NUM=p.read()\n",
    "        print(NUM)\n",
    "    NUM=int(NUM)+1\n",
    "    with open(\"answer/answer_number.txt\",\"w\")as p:\n",
    "        p.write(str(NUM))\n",
    "    return(NUM)"
   ]
  },
  {
   "cell_type": "code",
   "execution_count": 19,
   "metadata": {},
   "outputs": [],
   "source": [
    "def answer_to_csv(): \n",
    "    ans=np.load(\"answer/answer.npy\")\n",
    "    sample=pd.read_csv(\"raw_data/sample.csv\")\n",
    "    sample.label=ans\n",
    "    sample.to_csv(\"answer/answer3.csv\",index=False)"
   ]
  },
  {
   "cell_type": "code",
   "execution_count": 1,
   "metadata": {},
   "outputs": [],
   "source": [
    "from keras.preprocessing.image import ImageDataGenerator"
   ]
  },
  {
   "cell_type": "code",
   "execution_count": null,
   "metadata": {},
   "outputs": [],
   "source": []
  }
 ],
 "metadata": {
  "kernelspec": {
   "display_name": "Python 3",
   "language": "python",
   "name": "python3"
  },
  "language_info": {
   "codemirror_mode": {
    "name": "ipython",
    "version": 3
   },
   "file_extension": ".py",
   "mimetype": "text/x-python",
   "name": "python",
   "nbconvert_exporter": "python",
   "pygments_lexer": "ipython3",
   "version": "3.6.7"
  }
 },
 "nbformat": 4,
 "nbformat_minor": 2
}
